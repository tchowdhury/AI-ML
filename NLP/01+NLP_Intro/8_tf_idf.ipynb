{
 "cells": [
  {
   "cell_type": "code",
   "execution_count": 9,
   "metadata": {},
   "outputs": [],
   "source": [
    "# import python packages\n",
    "from gensim.models.tfidfmodel import TfidfModel\n",
    "from nltk.tokenize import word_tokenize\n",
    "from nltk.stem import WordNetLemmatizer\n",
    "from nltk.corpus import stopwords\n",
    "from collections import Counter\n",
    "from gensim.corpora.dictionary import Dictionary\n",
    "from collections import defaultdict\n",
    "import itertools"
   ]
  },
  {
   "cell_type": "code",
   "execution_count": 10,
   "metadata": {},
   "outputs": [],
   "source": [
    "# create an empty artcle list\n",
    "articles =[]"
   ]
  },
  {
   "cell_type": "code",
   "execution_count": 11,
   "metadata": {},
   "outputs": [],
   "source": [
    "# create a list of wikipedia articles\n",
    "wiki_list = ['wiki_text_debugging.txt','wiki_text_malware.txt','wiki_text_reversing.txt','wiki_text_software.txt','wiki_text_computer.txt','wiki_text_bug.txt','wiki_text_crash.txt','wiki_text_debugger.txt']"
   ]
  },
  {
   "cell_type": "code",
   "execution_count": 12,
   "metadata": {},
   "outputs": [],
   "source": [
    "# loop through wiki_list perform some preprocessing by lowercasing all words, tokenizing them, and removing stop words and punctuation and then stored in article list\n",
    "\n",
    "english_stops = set(stopwords.words('english'))\n",
    "\n",
    "for link in wiki_list:\n",
    "    \n",
    "    # open the wikipedia file and store into a variable\n",
    "    f = open(link, 'r', encoding=\"utf8\")\n",
    "    article = f.read()\n",
    "    \n",
    "    # Tokenize the article: tokens\n",
    "    tokens = word_tokenize(article)\n",
    "    \n",
    "    # Remove all punctuation\n",
    "    no_punc = [t for t in tokens if t.isalnum()]\n",
    "    \n",
    "    # Convert the tokens into lowercase\n",
    "    lower_tokens = [t.lower() for t in no_punc]\n",
    "    \n",
    "    # Retain alphabetic words\n",
    "    alpha_only = [t for t in lower_tokens if t.isalpha()]\n",
    "    \n",
    "    # Remove all stop words\n",
    "    no_stop = [t for t in alpha_only if t not in english_stops]\n",
    "    \n",
    "    # Add to artcle empty list\n",
    "    articles.append(no_stop)\n",
    "    "
   ]
  },
  {
   "cell_type": "code",
   "execution_count": 14,
   "metadata": {},
   "outputs": [],
   "source": [
    "# Create a Dictionary from the articles: dictionary\n",
    "dictionary = Dictionary(articles)"
   ]
  },
  {
   "cell_type": "code",
   "execution_count": 15,
   "metadata": {},
   "outputs": [],
   "source": [
    "# Create a MmCorpus: corpus\n",
    "corpus = [dictionary.doc2bow(article) for article in articles]"
   ]
  },
  {
   "cell_type": "code",
   "execution_count": 16,
   "metadata": {},
   "outputs": [],
   "source": [
    "# Create a new TfidfModel using the corpus: tfidf\n",
    "tfidf = TfidfModel(corpus)"
   ]
  },
  {
   "cell_type": "code",
   "execution_count": 17,
   "metadata": {},
   "outputs": [],
   "source": [
    "# Save the fifth document: doc\n",
    "doc = corpus[4]"
   ]
  },
  {
   "cell_type": "code",
   "execution_count": 19,
   "metadata": {},
   "outputs": [],
   "source": [
    "# Calculate the tfidf weights of doc: tfidf_weights\n",
    "tfidf_weights = tfidf[doc]"
   ]
  },
  {
   "cell_type": "code",
   "execution_count": 20,
   "metadata": {},
   "outputs": [
    {
     "name": "stdout",
     "output_type": "stream",
     "text": [
      "[(0, 0.009150141058308775), (1, 0.020587817381194747), (4, 0.0022875352645771937), (7, 0.0033735880329641447), (9, 0.004773753573762617)]\n"
     ]
    }
   ],
   "source": [
    "# Print the first five weights\n",
    "print(tfidf_weights[:5])"
   ]
  },
  {
   "cell_type": "code",
   "execution_count": 21,
   "metadata": {},
   "outputs": [],
   "source": [
    "# Sort the weights from highest to lowest: sorted_tfidf_weights\n",
    "sorted_tfidf_weights = sorted(tfidf_weights,key=lambda w: w[1], reverse=True)"
   ]
  },
  {
   "cell_type": "code",
   "execution_count": 25,
   "metadata": {},
   "outputs": [
    {
     "name": "stdout",
     "output_type": "stream",
     "text": [
      "manchester 0.17205298968117136\n",
      "intel 0.1518114614833865\n",
      "mechanical 0.14843787345042236\n",
      "machines 0.13494352131856577\n",
      "circuit 0.13156993328560163\n"
     ]
    }
   ],
   "source": [
    "# Print the top 5 weighted words\n",
    "for term_id, weight in sorted_tfidf_weights[:5]:\n",
    "    print(dictionary.get(term_id), weight)"
   ]
  },
  {
   "cell_type": "code",
   "execution_count": null,
   "metadata": {},
   "outputs": [],
   "source": []
  }
 ],
 "metadata": {
  "kernelspec": {
   "display_name": "Python 3",
   "language": "python",
   "name": "python3"
  },
  "language_info": {
   "codemirror_mode": {
    "name": "ipython",
    "version": 3
   },
   "file_extension": ".py",
   "mimetype": "text/x-python",
   "name": "python",
   "nbconvert_exporter": "python",
   "pygments_lexer": "ipython3",
   "version": "3.7.6"
  }
 },
 "nbformat": 4,
 "nbformat_minor": 4
}

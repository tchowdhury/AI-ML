{
 "cells": [
  {
   "cell_type": "code",
   "execution_count": 22,
   "metadata": {},
   "outputs": [],
   "source": [
    "# import python packages\n",
    "from nltk.tokenize import word_tokenize\n",
    "from nltk.tokenize import sent_tokenize\n",
    "import re"
   ]
  },
  {
   "cell_type": "code",
   "execution_count": 23,
   "metadata": {},
   "outputs": [],
   "source": [
    "# open the text file and store into a variable\n",
    "f = open('grail.txt', 'r')\n",
    "scene_one = f.read()"
   ]
  },
  {
   "cell_type": "code",
   "execution_count": 33,
   "metadata": {},
   "outputs": [],
   "source": [
    "# Split scene_one into sentences: sentences\n",
    "sentences = sent_tokenize(scene_one)"
   ]
  },
  {
   "cell_type": "code",
   "execution_count": 34,
   "metadata": {},
   "outputs": [],
   "source": [
    "# Use word_tokenize to tokenize the fourth sentence: tokenized_sent\n",
    "tokenized_sent = word_tokenize(sentences[3])"
   ]
  },
  {
   "cell_type": "code",
   "execution_count": 35,
   "metadata": {},
   "outputs": [
    {
     "name": "stdout",
     "output_type": "stream",
     "text": [
      "{'Prepare', 'life', 'number', 'English', 'ptoo', 'worried', 'Ohh', 'know', 'scenes', 'creeper', 'return', 'town', 'Uther', 'Hee', 'eat', 'Mine', 'non-migratory', 'walk', 'seldom', 'conclusions', 'changed', 'Mmm', 'Ow', 'sniff', 'rather', 'effect', 'doors', 'beside', 'went', 'having', 'must', 'huge', 'enjoying', 'Open', 'eccentric', 'excepting', 'pweeng', 'soft', 'warm', 'WITCH', 'given', 'zoosh', 'everything', 'True', 'GUESTS', 'executive', 'oh', 'Aaah', 'Five', 'ARTHUR', 'system', 'profane', 'ones', 'single-handed', 'Hiyya', 'knock', 'made', 'better', 'sank', 'upon', 'stab', 'samite', 'assault', 'suggesting', 'wan', 'differences', 'direction', 'Uuh', 'yourself', 'Saxons', 'whoever', 'eisrequiem', 'Chickennn', 'n', 'MIDGET', 'forest', 'thonk', 'Splendid', 'favorite', 'force', 'decision', 'Ay', 'lobbed', 'glass', 'VILLAGERS', 'hacked', 'perpetuates', 'Perhaps', 'baaaa', 'fled', 'Yeah', 'ALL', 'twin', 'supreme', 'Christ', 'throughout', 'business', 'blessing', 'for', 'eight', 'Midget', 'DIRECTOR', 'wishes', 'nice', 'chickened', 'witch', 'squeak', 'whispering', 'might', 'tiny', 'want', 'Mind', 'Tell', 'throwing', 'birds', 'Iiiives', 'fooling', 'Thppppt', 'acting', 'answer', 'radio', 'Sorry', 'held', 'spanked', 'assist', 'names', 'Man', 'awaaay', 'took', 'seemed', 'gurgle', 'wet', 'sacred', '?', 'arms', 'test', 'discovered', 'haste', 'clang', 'carved', 'affairs', 'were', 'higher', 'Patsy', 'watch', 'appease', 'sponge', 'Bad', 'Aaaaugh', 'legendary', 'rocks', '.', 'at', 'feast', 'Let', 'GUARDS', 'Thank', 'bird', 'big', 'smashing', 'take', 'son', 'clunk', 'winter', 'Aaagh', 'daughter', 'k-nnniggets', 'ratios', 'Away', 'Divine', 'ai', 'advancing', 'Lancelot', 'Ridden', 'thud', 'Once', 'Running', 'in', 'employed', 'way', 'keep', 'never', 'biggest', 'such', 'If', 'empty', 'liege', 'Hic', 'bleeder', 'bits', 'lads', 'taunting', 'mean', 'OTHER', 'e', 'icy', 'twenty-four', 'ha', 'without', 'while', 'HEADS', 'understand', 'Uh', 'splat', 'bid', 'temptress', 'Oooh', 'leave', 'try', 'chest', 'twenty', 'particularly', 'second', 'Anybody', 'hospitality', 'cross', 'bold', 'rhymes', 'found', 'woosh', 'Alice', 'walking', 'cadeau', 'African', 'PRINCESS', 'show', 'welcome', 'Just', 'stood', 'Nothing', 'think', 'anarcho-syndicalist', 'DINGO', 'soon', 'Oui', 'last', 'crone', 'guard', 'groveling', 'twong', 'strength', 'already', 'should', 'things', 'animator', 'cover', 'relics', 'line', 'Tall', 'knees-bent', 'masses', 'proved', 'mother', 'hills', 'Ahh', 'smashed', 'death', 'straight', 'Walk', \"'Man\", 'aaugh', 'Dingo', 'resumes', 'finest', 'expect', 'FRENCH', 'verses', 'Will', 'dunno', 'over', 'Peril', 'charged', 'nightfall', 'c', 'dance', 'wave', 'HERBERT', 'turns', 'slightly', 'armor', 'Consult', 'economic', 'forced', 'sun', 'kings', 'Pull', 'rejoicing', 'Rheged', 'done', 'Camelot', 'leaps', 'peasant', 'mooooooo', 'man', 'Court', 'shrubbery', 'tragic', 'along', 'Jesus', 'hidden', 'unplugged', 'By', 'old', 'boom', 'Herbert', 'some', 'Ninepence', 'hand', 'Now', 'bottoms', 'from', 'HEAD', 'Shh', 'pram', 'valiant', 'cartoon', 'shelter', 'wayy', 'minute', 'are', 'gra', \"'Ecky-ecky-ecky-ecky-pikang-zoop-boing-goodem-zoo-owli-zhiv\", 'Autumn', 'kill', 'later', 'Aauuugh', 'daft', 'Chop', 'snows', 'Speak', 'Use', 'heads', 'Lord', 'Shrubberies', 'velocity', 'jam', 'yelling', 'hast', 'table', 'entrance', 'Lake', 'dancing', 'bravely', 'taken', 'nothing', 'attack', 'court', 'quarrel', 'door-opening', 'throat', 'will', 'problems', 'so', \"n't\", 'haw', 'kick', 'getting', 'has', 'oral', 'problem', 'sheep', 'Honestly', 'note', 'mistake', 'summon', 'Greetings', '5', 'repressed', 'fortune', 'science', 'trade', 'living', 'INSPECTOR', 'blow', 'Roger', 'would', 'meant', 'third', 'requiem', 'scimitar', 'moment', 'easily', 'bad-tempered', 'lived', 'who', 'Cut', 'you', 'further', 'arrows', '#', 'vary', 'Um', 'Must', 'dead', 'Go', 'see', 'Hey', 'Try', 'Concorde', 'boil', 'Aaauggh', 'Farewell', 'feel', 'least', 'cop', 'angels', 'eis', 'thanks', 'pansy', 'make', 'Say', 'remembered', 'SENTRY', 'vote', 'Pie', 'Maynard', 'considerable', 'Nador', 'sell', 'Sir', 'consulted', 'NI', 'Hello', 'father', 'actually', 'union', 'or', 'happens', 'chickening', 'So', 'RANDOM', 'binding', 'yellow', 'yet', 'bicker', 'weather', 'exciting', 'started', 'required', 'emperor', 'meeting', 'um', 'mangy', 'crying', 'may', 'asks', 'Far', 'woman', 'CRONE', 'Dennis', 'indeed', 'centuries', 'Hoo', 'north', 'ratified', 'treat', 'triumphs', 'deal', 'spooky', 'up', 'gallantly', \"'d\", 'formed', 'set', 'high', 'nineteen-and-a-half', 'enchanter', 'pen', 'music', 'commands', 'small', 'most', 'kneecaps', 'valleys', '15', 'good', 'Knight', 'hello', 'air-speed', 'somewhere', 'derives', 'thump', 'Order', 'basic', 'tough', '7', 'lost', 'behind', 'dying', 'outdoors', 'oo', 'Thpppt', 'tropical', 'guiding', 'fell', 'Packing', 'Uhh', 'shrubberies', 'Haw', 'All', 'real', 'pay', 'towards', 'cope', 'bois', 'these', 'lives', 'quiet', 'brush', 'sight', 'south', 'zone', 'retreat', 'sacrifice', 'Mother', 'raised', \"'Til\", 'outdated', 'rock', 'Never', 'Bors', 'autocracy', 'little', 'Twenty-one', 'HISTORIAN', 'May', 'enter', 'smack', 'afoot', 'art', 's', 'donkey-bottom', 'once', 'guards', 'shimmering', \"'round\", 'collective', 'lady', 'really', 'Anarcho-syndicalism', 'For', 'Would', 'Riiight', 'Umhm', 'miss', 'because', 'talk', 'Hiyah', 'nearly', 'design', 'into', 'Follow', 'Here', 'passing', 'MONKS', 'cry', 'Thursday', 'forget', 'vain', 'boys', 'quack', 'Beyond', \"'ni\", 'immediately', 'carp', 'between', 'Hold', 'a', 'thine', 'Dis-mount', 'model', 'seem', 'cave', 'la', 'guest', 'move', '20', 'Chapter', 'stay', 'speak', 'mortally', 'quest', 'clack', '16', 'counting', 'CUSTOMER', 'task', 'door', 'fight', 'pounds', 'halves', 'there', 'migrate', \"'old\", 'Are', 'tear', 'ROBIN', 'Yup', 'Assyria', 'progress', 'act', 'brave', 'NARRATOR', \"'S\", 'Surely', 'leads', 'nice-a', 'face', 'properly', 'PERSON', 'bad', ';', 'writing', 'being', 'wonderful', 'looked', 'covered', 'presence', 'crash', 'No', 'wiper', 'work', 'bless', 'King', 'CAMERAMAN', 'bowels', 'command', 'unladen', 'today', 'Everything', 'bosom', 'out-clever', 'sigh', 'to', 'Pendragon', 'aquatic', 'lapin', 'ponds', 'lucky', 'beds', 'favor', 'To', '14', 'illegitimate-faced', 'Halt', 'vicious', 'snap', 'split', 'sex', 'Arthur', 'wait', 'join', 'Victory', 'carving', 'Your', 'yeah', \"'is\", 'time', '24', 'harmless', \"'uuggggggh\", 'haaa', 'TIM', 'Cider', 'sixteen', 'mumble', 'going', 'band', 'Holy', 'Bread', 'body', 'dull', 'Shrubber', 'how', 'but', 'burn', 'stuffed', 'Aagh', 'types', 'Tower', 'Quite', 'bunny', 'either', 'Frank', 'false', 'breath', 'Monsieur', 'Arimathea', 'saw', 'with', 'sign', 'Gallahad', 'interested', 'Since', 'what', 'setting', 'ho', 'not', 'ooh', 'leap', 'Or', 'It', 'liar', 'Whoa', 'night', 'SOLDIER', 'sons', 'of', 'disheartened', 'God', 'daring', 'Am', 'PRINCE', 'still', 'Bring', 'Silence', 'question', 'Ooh', 'making', 'hoo', 'fair', 'worst', 'seen', 'we', 'totally', 'France', 'wart', 'routines', 'used', 'vouchsafed', 'its', 'trouble', 'saying', 'N', 'Have', 'accomplished', 'k-niggets', 'influential', 'committed', 'Run', 'met', 'chosen', 'purely', 'soiled', 'peril', 'Dragon', 'goes', 'aptly', 'feet', 'MIDDLE', 'worry', 'Ector', 'bed-wetting', 'My', 'LEFT', 'ignore', 'brought', 'bint', 'u', 'right', 'go', \"'sorry\", 'your', 'demand', 'closest', 'foe', 'sire', 'bones', 'Alright', 'servant', 'keen', 'taunt', 'bravest', 'kind', 'His', 'too', 'cast', 'Explain', 'against', 'Why', 'terribly', 'clap', 'Iesu', 'avenged', 'Be', '10', 'oooh', ':', 'worthy', 'cheesy', 'A', 'Bristol', 'Bloody', 'weighs', 'Actually', 'the', 'The', 'buggering', 'Throw', 'KING', 'donaeis', 'idea', 'footwork', 'swamp', 'flint', 'lambs', 'auuuuuuuugh', 'many', 'confuse', 'use', 'Eh', 'havin', 'dynamite', 'BEDEVERE', 'Heee', 'coming', 'dine', 'indefatigable', 'weapon', 'stop', 'something', 'mad', 'Remove', 'There', 'O', 'thing', 'history', 'again', 'Tim', 'knight', 'spake', 'Hmm', 'tiny-brained', 'Right', 'Guy', 'told', 'request', 'bangin', 'idiom', 'invincible', 'can', 'strongest', 'glory', 'Angnor', 'Caerbannog', 'Neee-wom', 'yours', 'medieval', 'ounce', 'anyway', 'pray', 'automatically', 'Do', 'sorry', 'string', 'doubt', 'Wayy', 'Found', 'stupid', 'Thpppppt', 'fellows', 'streak', 'noise', 'Quickly', 'WINSTON', 'diaphragm', \"'m\", 'approacheth', 'Ni', 'uuup', 'apologise', 'thirty-seven', 'violence', \"'Course\", 'kingdom', 'fart', 'Defeat', 'since', 'out', 'song', 'CONCORDE', \"'ve\", 'else', \"'cause\", 'Seek', 'prevent', '4', 'GREEN', 'mandate', 'ZOOT', 'BRIDE', \"C'est\", 'Bon', 'four', 'Loimbard', 'vital', 'bang', 'biters', 'deeds', 'course', 'got', 'hell', 'Three', 'supports', 'handle', 'have', 'place', 'Schools', 'wo', 'CRASH', 'Unfortunately', 'inherent', 'Yapping', 'been', 'land', 'certainly', 'questions', 'perilous', 'Woa', 'lovely', 'witness', 'foul', 'terrible', 'they', 'Supreme', 'Eee', 'call', 'build', 'Winston', 'Torment', 'Stand', 'ungallant', 'get', 'WOMAN', 'Together', 'sense', 'Not-appearing-in-this-film', 'dangerous', 'whether', 'bridges', 'present', 'near', '13', 'about', 'creak', 'fruit', \"'Erbert\", \"'First\", 'largest', 'Anthrax', 'die', 'just', 'bridge', 'wherein', 'utterly', 'Gawain', 'sharp', 'frontal', 'hospital', 'spoken', 'society', 'Camaaaaaargue', 'longer', 'b', 'quests', 'minutes', 'needs', 'medical', 'islands', 'full', 'Like', 'continue', 'more', 'SHRUBBER', 'this', 'sequin', 'main', 'strand', 'Hooray', 'cereals', 'merger', 'reads', 'Silly', \"'aaaah\", 'her', 'pestilence', 'thought', 'RIGHT', 'Thee', 'Action', 'joyful', 'Round', 'broken', 'examine', 'let', 'distress', 'Gable', 'LAUNCELOT', 'regulations', 'adversary', 'fine', 'KNIGHTS', 'splash', 'tops', 'bastard', 'sod', 'scott', 'certain', 'Stay', 'Not', 'Guards', 'This', 'swords', 'language', 'guests', 'excuse', 'Ask', 'armed', 'classes', 'outside', 'knocked', 'couple', 'their', 'working', 'sir', 'sure', 'whose', 'nasty', 'humble', 'intermission', 'tail', 'listen', 'Piglet', 'Heh', 'please', 'beyond', \"'Dennis\", 'unsingable', 'dogma', 'surprise', 'purpose', 'LUCKY', '--', 'pound', 'each', \"'shrubberies\", 'laurels', 'Very', 'enemies', 'Lucky', 'One', 'blanket', 'Behold', 'give', 'bats', 'Aaaah', 'behold', 'duck', 'gouged', 'bum', 'Please', 'inside', 'i', 'Aaauugh', 'fwump', 'sample', 'all', 'chanting', 'Come', 'majority', 'eyes', 'mangled', 'OLD', 'internal', \"'s\", 'impersonate', 'knew', 'va.', 'length', 'swallow', 'Tale', 'Lie', 'learning', 'laughing', 'Aaaugh', 'suit', 'carries', 'friend', 'feint', 'bonk', 'He', 'tonight', 'fatal', 'any', 'Wood', 'dungeon', 'agree', 'mine', 'roar', 'runes', 'heh..', 'scared', 'praised', 'Until', 'Quick', 'BROTHER', 'thy', 'Chicken', 'high-pitched', 'understanding', 'mystic', 'hopeless', 'Erm', 'conclusion', 'rrrr', 'giggle', 'Rather', 'underwear', 'everyone', 'GUEST', 'ceremony', 'Hand', 'Even', 'Mud', 'long', 'OF', 'BORS', 'lose', 'change', 'relax', 'horse', 'mer', 'doctors', 'varletesses', 'pulp', 'general', 'married', 'entering', 'plain', 'order', 'plover', 'Auuuuuuuugh', 'Oh', 'vache', 'comin', 'eh', 'banana-shaped', 'STUNNER', 'shit', 'ordinary', 'own', 'illustrious', 'GOD', 'o', 'I', 'social', 'Forgive', 'someone', 'OFFICER', 'reasonable', 'whom', '9', 'Back', 'period', 'died', 'follow', 'ridden', 'cough', 'wrong', 'count', 'he', 'More', 'Churches', 'pull', 'LOVELY', 'which', 'simple', 'Get', 'himself', 'Yeaah', 'felt', '8', 'FATHER', 'using', 'tinder', 'aunties', 'unarmed', 'obviously', 'doing', 'late', 'somebody', 'lying', 'hiyaah', 'duty', 'Off', \"'re\", 'matter', 'distributing', 'French', 'Hoa', 'wound', 'Really', 'ye', 'Burn', 'Hallo', \"'Morning\", 'Charge', 'another', 'Hah', 'grovel', 'earthquakes', 'alarm', 'An', 'nostrils', 'only', 'fourth', 'Brother', 'Other', 'With', \"'til\", 'carried', 'Is', 'looking', 'less', 'Ho', 'grail-shaped', 'killed', 'magne', 'left', 'Saint', 'sad', 'raped', 'expensive', 'away', 'need', 'major', 'rest', 'wedlock', 'built', 'Shut', 'animal', 'successful', 'ROGER', 'defeat', 'warned', 'Put', ']', \"'\", 'tap-dancing', 'stew', 'tell', 'Thppt', 'asking', 'limbs', 'Old', 'Ives', 'DEAD', 'Bravely', 'wood', 'forward', 'valor', 'formidable', 'accent', 'if', 'THE', 'point', 'stand', 'bugger-folk', 'ehh', 'Listen', 'week', 'GUARD', 'buggered', 'an', 'makes', 'CARTOON', 'git', 'ham', 'Pure', 'scots', 'bring', 'basis', 'yel', 'temptation', 'very', 'Aaaaaaaah', 'climes', 'ANIMATOR', 'headed', 'trumpets', 'nine', 'worked', 'remember', 'round', 'absolutely', 'gentle', 'well', 'hmm', 'Ayy', 'CHARACTERS', 'None', 'Exactly', 'Said', 'bringing', 'etc', 'Oooohoohohooo', 'arrange', 'W', 'day', 'ere', 'orangutans', 'packing', 'killer', 'awhile', 'decided', 'hamster', 'Book', 'teeth', 'nobody', 'chastity', 'sing', 'put', 'clop', 'creature', 'brunettes', 'Robin', 'Battle', 'Umm', 'Augh', 'chance', 'country', '12', 'Psalms', 'Bridge', 'Shall', 'Cornwall', \"'To\", 'y', 'tart', 'Hiyaah', 'CROWD', 'minstrels', 'punishment', 'said', 'therefore', 'Armaments', 'cut', 'snore', 'power', 'dictatorship', 'word', 'Huh', 'by', 'Dramatically', 'starling', 'But', 'become', 'pig-dogs', 'nervous', 'spanking', 'bite', 'sort', 'testicles', 'three', 'dark', 'bastards', 'opera', 'Ah', 'she', 'unclog', 'looks', 'removed', 'auntie', 'Steady', 'anywhere', 'ready', 'flights', 'Every', 'bleed', 'They', 'suspenseful', 'Quiet', 'scales', 'slash', 'ENCHANTER', 'Waa', 'In', 'tea', 'She', 'Britain', 'beautiful', 'Wait', 'GALAHAD', 'men', 'anyone', \"'Ere\", \"'Ni\", 'my', 'find', 'Ulk', 'house', 'imperialist', 'ninepence', 'SIR', 'CHARACTER', 'aloft', 'foot', 'pure', 'carry', 'fold', 'private', 'bi-weekly', 'hall', 'dirty', 'ethereal', 'scrape', 'convinced', 'hat', 'pissing', 'Grail', 'ever', '[', 'bloody', 'ill.', 'dad', 'escape', 'ugly', 'As', 'Of', 'individually', 'draw', 'mashed', 'fought', 'was', 'maybe', 'scratch', 'Princess', 'Yes', 'Skip', 'where', 'eet', 'suppose', 'year', 'dragging', 'carve', 'aaaaaah', 'wicked', 'Excalibur', 'stretched', 'We', 'pussy', \"'Aauuuuugh\", 'although', 'Robinson', 'lot', \"'aaggggh\", 'ask', 'run', 'g', 'Aauuggghhh', 'here', 'Black', 'forty-three', 'named', 'food', 'wide', 'north-east', 'van', 'ca', 'gravy', 'How', 'day..', 'burst', 'oui', 'the-not-quite-so-brave-as-Sir-Lancelot', 'AMAZING', 'shrubber', 'tale', 'unhealthy', 'Allo', 'suffered', 'k-nnnnniggets', 'Clear', 'lord', 'sovereign', 'Could', 'spank', 'kills', 'evil', 'chops', 'Y', 'bathing', 'strangers', 'newt', 'ran', 'siren', 'lie', 'uhh', 'earth', 'and', 'U', 'kicked', 'wings', 'WIFE', 'capital', 'grin', 'twang', 'young', 'Lead', 'Bones', 'Britons', 'sweet', \"'Oooooooh\", 'curtains', '17', 'w', 'women', 'explain', 'Welcome', 'passed', 'lad', 'vests', 'awfully', 'wipers', 'ju', 'When', 'much', 'self-perpetuating', 'scholar', 'clllank', 'Doctor', 'knows', 'Therefore', 'temperate', 'DENNIS', 'miserable', 'Over', 'gone', 'tit', 'Yay', 'spirit', 'horrendous', 'send', 'BRIDGEKEEPER', 'grips', 'Make', 'glad', 'breadth', 'am', 'cart', 'outwit', 'hang', 'castle', 'yes', 'looney', 'Bedevere', 'MAYNARD', 'also', 'moistened', 'Does', 'Aauuuves', 'Spring', 'domine', 'nose', 'king-a', 'first', 'floats', 'known', 'aside', 'marrying', 'why', 'master', 'two', 'bladders', 'That', 'hee', 'Four', 'protect', \"'forgive\", 'CRAPPER', ',', 'mayest', 'time-a', 'separate', 'Great', 'after', 'Bedwere', 'suffice', 'Dappy', 'heroic', 'warmer', 'retold', 'clad', 'Winter', 'Galahad', 'liver', 'worse', 'rode', 'signifying', 'GIRLS', \"e'er\", 'so-called', 'commune', 'wooden', 'quite', 'new', 'waste', 'Castle', '22', 'chorus', 'Apples', 'luck', 'Olfin', 'discovers', 'Those', 'exploiting', \"'em\", 'fallen', 'Idiom', 'wind', 'now', 'Prince', 'Practice', 'Providence', 'swallows', 'sonny', 'scarper', \"'it\", 'Two', 'Nay', 'de', '18', 'Supposing', 'You', 'averting', 'those', 'SECOND', 'dona', 'be', 'heh', 'creep', 'Amen', 'SUN', 'Fine', 'down', 'window-dresser', 'telling', 'gon', 'returns', 'even', 'PATSY', 'wounding', 'shows', 'singing', 'dappy', 'had', 'pause', 'depressing', 'er', 'is', 'outrageous', 'workers', \"'Here\", 'Un', 'ferocity', 'anchovies', 'kneeling', 'anything', 'Huy', 'inferior', 'Ewing', 'pond', 'Attila', 'sister', 'coconuts', 'Badon', 'settles', '23', 'guided', 'nibble', 'visually', 'un', 'that', 'finds', 'say', 'scene', 'offensive', 'stayed', 'tackle', 'far', 'lonely', 'na', 'riding', 'thank', 'burned', 'martin', 'push', 'lobbest', 'supposed', 'smelt', 'drilllll', 'Iiiiives', 'farcical', 'types-a', 'courage', 'Picture', 'refuse', 'middle', 'guarded', 'lunged', 'chu', 'sometimes', \"d'you\", 'l', 'travellers', 'bottom', 'tracts', 'preserving', 'sink', 'one', 'keepers', 'it', 'Crapper', 'around', 'Hurry', 'next', 'Enchanter', 'PIGLET', 'two-level', 'MAN', 'sword', 'Quoi', 'PRISONER', 'Forward', 'legally', 'through', 'identical', 'Yeaaah', 'Where', 'gave', 'stops', 'clue', 'war', 'Between', 'beat', 'bows', 'grip', 'score', 'Antioch', 'What', 'Excuse', 'taking', ')', 'almost', 'holy', 'bridgekeeper', 'howl', 'Fetchez', 'trusty', 'Fiends', 'room', 'previous', 'home', 'Beast', 'mac', 'fifty', 'dress', 'Hang', 'open', 'like', 'keeper', 'behaviour', 'pack', 'Which', 'mayhem', 'back', 'did', 'rodent', 'clear', '1', 'Eternal', 'threw', 'Look', 'color', 'beacon', 'dressing', 'B', 'Agh', 'elbows', 'dramatic', 'tired', 'under', 'best', 'Looks', 'Build', 'flesh', 'Firstly', 'Almighty', 'Most', 'seems', 'shut', 'thou', 'heart', 'reached', 'folk', 'Nu', 'jokes', 'Summer', 'helpful', 'whinny', 'Aaaaaah', 'VILLAGER', 'alight', 'Lady', 'always', 'saved', 'mercy', 'owns', 'European', 'naughty', 'England', 'same', 'silly', 'occasion', 'resting', 'blondes', 'Keep', 'dorsal', 'mightiest', 'girl', 'silence', 'imprisoned', 'fly', 'maintain', 'Nine', 'MINSTREL', 'chord', 'dare', 'look', 'VOICE', 'end', 'attend', \"'T\", 'Hm', 'allowed', 'stress', 'Anyway', 'blood', 'bride', 'logically', 'ruffians', 'water', '21', 'penalty', 'Aramaic', 'Thy', 'depart', 'snuff', '!', 'j', 'Hyy', 'come', 'Thou', 'danger', 'At', 'Thsss', 'buy', 'times', 'police', 'strewn', 'gained', 'Blue', 'hundred-and-fifty', 'parts', 'SCENE', 'Gorge', 'his', 'awaits', 'ha..', 'voluntarily', 'Uugh', 'when', 'Pin', 'p', 'able', 'shall', 'afraid', 'gay', 'Recently', 'cruel', 'Who', 'training', 'could', 'officer', 'arm', 'class', 'became', 'accompanied', 'pimples', '...', 'them', 'king', 'amazes', 'bells', 'on', 'Good', 'handsome', 'Aah', 'sent', '2', 'us', 'Help', 'government', 'herring', 'ways', 'sawwwww', 'awaaaaay', 'Oooo', 'mate', 'example', 'Hill', 'headoff', 'Ha', 'easy', 'Zoot', 'Cherries', 'entered', 'uuggggggh', 'Message', 'And', 'electric', 'recover', 'bet', 'husk', 'says', 'honored', 'nick', 'tie', 'witches', 'Knights', 'drink', '3', 'pointy', 'Clark', 'personally', 'strategy', 'Brave', 'called', 'Hya', 'Our', 'rewr', 'completely', 'impeccable', '19', 'bitching', 'feathers', 'frozen', 'rope', 'seek', 'undressing', 'busy', 'dub', 'strange', 'risk', 'plan', 'turned', 'Table', 'bed', 'wield', 'compared', 'breakfast', 'than', 'Joseph', 'search', 'fire', 'wedding', 'On', 'brain', 'persons', 'baby', 'dressed', 'spam', 'leg', 'Meanwhile', 'Ages', 'path', 'shivering', 'laden', 'knights', 'clank', 'running', 'large', 'heeh', 'ladies', 'filth', 'two-thirds', 'delirious', 'Grenade', 'Did', 'rich', 'lies', 'case', 'badger', 'mooo', 'Chaste', 'freedom', 'Too', 'biscuits', 'Death', 'ni', 'person', \"'ll\", 'remain', 'thwonk', 'carrying', 'KNIGHT', 'wise', 'proceed', 'jump', 'nor', 'argue', 'ours', 'pass', 'no', 'heard', 'frighten', 'Well', 'watery', 'coconut', 'people', '6', 'our', 'mud', 'stone', 'pig', 'shalt', 'answers', 'Launcelot', 'elderberries', 'marry', 'crossed', 'rabbit', 'sneaking', 'sloths', 'whop', 'wounded', 'horn', 'CART-MASTER', 'great', 'ARMY', 'nearer', 'quick', 'as', 'grenade', 'five', 'bit', 'traveller', 'bond', 'tree', 'then', 'grail', 'words', 'suddenly', 'lair', 'him', 'legs', 'dear', 'side', 'purest', 'other', 'object', 'Leaving', 'Stop', 'together', 'give-away', 'until', 'scribble', '(', 'Bravest', 'every', 'defeator', 'performance', 'Aaaaaaaaah', 'enough', 'mile', 'Then', 'necessary', 'Mercea', 'dictating', 'Today', 'Huyah', 'help', 'cost', 'ride', '11', 'off', 'hear', 'head', 'special', 'manner', 'uh', 'rescue', 'reared', 'sworn', 'live', 'Swamp', 'approaching', 'trough', 'Aggh', 'safety', 'particular', 'flight', 'PARTY', 'autonomous', 'forth', \"'anging\", 'eats', 'apart', 'alive', 'woods', 'Father', 'Himself', 'does', 'wants', 'castanets', 'me', 'happy', 'Peng', 'do', 'name', 'warning', 'BLACK', 'See', 'bother', 'repressing', 'weight'}\n"
     ]
    }
   ],
   "source": [
    "# Make a set of unique tokens in the entire scene: unique_tokens\n",
    "unique_tokens = set(word_tokenize(scene_one))\n",
    "print(unique_tokens)"
   ]
  },
  {
   "cell_type": "code",
   "execution_count": 36,
   "metadata": {},
   "outputs": [
    {
     "name": "stdout",
     "output_type": "stream",
     "text": [
      "580 588\n"
     ]
    }
   ],
   "source": [
    "# Search for the first occurrence of \"coconuts\" in scene_one: match\n",
    "match = re.search('coconuts',scene_one)\n",
    "print(match.start(), match.end())"
   ]
  },
  {
   "cell_type": "code",
   "execution_count": 37,
   "metadata": {},
   "outputs": [],
   "source": [
    "# Write a regular expression to search for anything in square brackets: pattern1\n",
    "pattern1 = r\"\\[.*\\]\""
   ]
  },
  {
   "cell_type": "code",
   "execution_count": 38,
   "metadata": {},
   "outputs": [
    {
     "name": "stdout",
     "output_type": "stream",
     "text": [
      "<re.Match object; span=(9, 32), match='[wind] [clop clop clop]'>\n"
     ]
    }
   ],
   "source": [
    "# Use re.search to find the first text in square brackets\n",
    "print(re.search(pattern1,scene_one))"
   ]
  },
  {
   "cell_type": "code",
   "execution_count": 40,
   "metadata": {},
   "outputs": [
    {
     "name": "stdout",
     "output_type": "stream",
     "text": [
      "<re.Match object; span=(0, 7), match='ARTHUR:'>\n"
     ]
    }
   ],
   "source": [
    "# Find the script notation at the beginning of the fourth sentence and print it\n",
    "pattern2 = r\"[\\w\\s]+:\"\n",
    "print(re.match(pattern2,sentences[3]))"
   ]
  },
  {
   "cell_type": "code",
   "execution_count": null,
   "metadata": {},
   "outputs": [],
   "source": []
  }
 ],
 "metadata": {
  "kernelspec": {
   "display_name": "Python 3",
   "language": "python",
   "name": "python3"
  },
  "language_info": {
   "codemirror_mode": {
    "name": "ipython",
    "version": 3
   },
   "file_extension": ".py",
   "mimetype": "text/x-python",
   "name": "python",
   "nbconvert_exporter": "python",
   "pygments_lexer": "ipython3",
   "version": "3.7.6"
  }
 },
 "nbformat": 4,
 "nbformat_minor": 4
}
